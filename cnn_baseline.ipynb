{
 "cells": [
  {
   "cell_type": "code",
   "execution_count": 42,
   "id": "273dbe62-9015-480f-8a18-3bc3edf7a97d",
   "metadata": {},
   "outputs": [
    {
     "name": "stdout",
     "output_type": "stream",
     "text": [
      "Found 4660 images belonging to 2 classes.\n",
      "Found 300 images belonging to 2 classes.\n"
     ]
    }
   ],
   "source": [
    "import tensorflow as tf\n",
    "from keras.preprocessing.image import ImageDataGenerator\n",
    "tf.__version__\n",
    "\n",
    "# Part 1 - Data Preprocessing\n",
    "\n",
    "# Preprocessing the Training set\n",
    "train_datagen = ImageDataGenerator(rescale = 1./255,\n",
    "                                   shear_range = 0.2,\n",
    "                                   zoom_range = 0.2,\n",
    "                                   horizontal_flip = True)\n",
    "training_set = train_datagen.flow_from_directory(\"/root/shared/chickens/chickens/train\",\n",
    "                                                 target_size = (64, 64),\n",
    "                                                 batch_size = 32,\n",
    "                                                 class_mode = 'binary')\n",
    "\n",
    "# Preprocessing the Test set\n",
    "test_datagen = ImageDataGenerator(rescale = 1./255)\n",
    "test_set = test_datagen.flow_from_directory(\"/root/shared/chickens/chickens/test\",\n",
    "                                            target_size = (64, 64),\n",
    "                                            batch_size = 32,\n",
    "                                            class_mode = 'binary')\n"
   ]
  },
  {
   "cell_type": "code",
   "execution_count": 43,
   "id": "e87cde55-6a36-40a4-9dd8-1f70e709aa30",
   "metadata": {},
   "outputs": [],
   "source": [
    "# Initialising the CNN\n",
    "cnn = tf.keras.models.Sequential()\n",
    "\n",
    "# Step 1 - Convolution\n",
    "cnn.add(tf.keras.layers.Conv2D(filters=32, kernel_size=3, activation='relu', input_shape=[64, 64, 3]))\n",
    "\n",
    "# Step 2 - Pooling\n",
    "cnn.add(tf.keras.layers.MaxPool2D(pool_size=2, strides=2))\n",
    "\n",
    "# Adding a second convolutional layer\n",
    "cnn.add(tf.keras.layers.Conv2D(filters=32, kernel_size=3, activation='relu'))\n",
    "cnn.add(tf.keras.layers.MaxPool2D(pool_size=2, strides=2))\n",
    "\n",
    "# Step 3 - Flattening\n",
    "cnn.add(tf.keras.layers.Flatten())\n",
    "\n",
    "# Step 4 - Full Connection\n",
    "cnn.add(tf.keras.layers.Dense(units=128, activation='relu'))\n",
    "\n",
    "# Step 5 - Output Layer\n",
    "cnn.add(tf.keras.layers.Dense(units=1, activation='sigmoid'))\n"
   ]
  },
  {
   "cell_type": "code",
   "execution_count": 44,
   "id": "88923ec2-e562-4841-9ff4-354547d311eb",
   "metadata": {},
   "outputs": [
    {
     "name": "stdout",
     "output_type": "stream",
     "text": [
      "Epoch 1/25\n",
      "146/146 [==============================] - 48s 316ms/step - loss: 0.5754 - accuracy: 0.6863 - val_loss: 0.6277 - val_accuracy: 0.6933\n",
      "Epoch 2/25\n",
      "146/146 [==============================] - 30s 208ms/step - loss: 0.4812 - accuracy: 0.7633 - val_loss: 0.5424 - val_accuracy: 0.7500\n",
      "Epoch 3/25\n",
      "146/146 [==============================] - 28s 194ms/step - loss: 0.4294 - accuracy: 0.8043 - val_loss: 0.4799 - val_accuracy: 0.7600\n",
      "Epoch 4/25\n",
      "146/146 [==============================] - 29s 197ms/step - loss: 0.3981 - accuracy: 0.8189 - val_loss: 0.4658 - val_accuracy: 0.7900\n",
      "Epoch 5/25\n",
      "146/146 [==============================] - 27s 183ms/step - loss: 0.3777 - accuracy: 0.8324 - val_loss: 0.3719 - val_accuracy: 0.8367\n",
      "Epoch 6/25\n",
      "146/146 [==============================] - 27s 184ms/step - loss: 0.3409 - accuracy: 0.8549 - val_loss: 0.4187 - val_accuracy: 0.8033\n",
      "Epoch 7/25\n",
      "146/146 [==============================] - 27s 182ms/step - loss: 0.3312 - accuracy: 0.8532 - val_loss: 0.3251 - val_accuracy: 0.8700\n",
      "Epoch 8/25\n",
      "146/146 [==============================] - 26s 180ms/step - loss: 0.3094 - accuracy: 0.8670 - val_loss: 0.3642 - val_accuracy: 0.8367\n",
      "Epoch 9/25\n",
      "146/146 [==============================] - 27s 184ms/step - loss: 0.2903 - accuracy: 0.8777 - val_loss: 0.2896 - val_accuracy: 0.8933\n",
      "Epoch 10/25\n",
      "146/146 [==============================] - 27s 183ms/step - loss: 0.2724 - accuracy: 0.8833 - val_loss: 0.3063 - val_accuracy: 0.8733\n",
      "Epoch 11/25\n",
      "146/146 [==============================] - 27s 186ms/step - loss: 0.2509 - accuracy: 0.8938 - val_loss: 0.3175 - val_accuracy: 0.8833\n",
      "Epoch 12/25\n",
      "146/146 [==============================] - 27s 183ms/step - loss: 0.2425 - accuracy: 0.8996 - val_loss: 0.2772 - val_accuracy: 0.8933\n",
      "Epoch 13/25\n",
      "146/146 [==============================] - 27s 184ms/step - loss: 0.2344 - accuracy: 0.9077 - val_loss: 0.2466 - val_accuracy: 0.9067\n",
      "Epoch 14/25\n",
      "146/146 [==============================] - 27s 183ms/step - loss: 0.2244 - accuracy: 0.9049 - val_loss: 0.2334 - val_accuracy: 0.9133\n",
      "Epoch 15/25\n",
      "146/146 [==============================] - 28s 189ms/step - loss: 0.2030 - accuracy: 0.9195 - val_loss: 0.3116 - val_accuracy: 0.8767\n",
      "Epoch 16/25\n",
      "146/146 [==============================] - 27s 188ms/step - loss: 0.1852 - accuracy: 0.9238 - val_loss: 0.3504 - val_accuracy: 0.8267\n",
      "Epoch 17/25\n",
      "146/146 [==============================] - 26s 181ms/step - loss: 0.1810 - accuracy: 0.9285 - val_loss: 0.3161 - val_accuracy: 0.8700\n",
      "Epoch 18/25\n",
      "146/146 [==============================] - 28s 193ms/step - loss: 0.1732 - accuracy: 0.9305 - val_loss: 0.3043 - val_accuracy: 0.8533\n",
      "Epoch 19/25\n",
      "146/146 [==============================] - 28s 192ms/step - loss: 0.1595 - accuracy: 0.9382 - val_loss: 0.1827 - val_accuracy: 0.9433\n",
      "Epoch 20/25\n",
      "146/146 [==============================] - 29s 200ms/step - loss: 0.1458 - accuracy: 0.9451 - val_loss: 0.1966 - val_accuracy: 0.9333\n",
      "Epoch 21/25\n",
      "146/146 [==============================] - 29s 195ms/step - loss: 0.1310 - accuracy: 0.9500 - val_loss: 0.2760 - val_accuracy: 0.9100\n",
      "Epoch 22/25\n",
      "146/146 [==============================] - 28s 191ms/step - loss: 0.1323 - accuracy: 0.9494 - val_loss: 0.2216 - val_accuracy: 0.9267\n",
      "Epoch 23/25\n",
      "146/146 [==============================] - 28s 189ms/step - loss: 0.1245 - accuracy: 0.9509 - val_loss: 0.2550 - val_accuracy: 0.9033\n",
      "Epoch 24/25\n",
      "146/146 [==============================] - 27s 185ms/step - loss: 0.1181 - accuracy: 0.9569 - val_loss: 0.3570 - val_accuracy: 0.8867\n",
      "Epoch 25/25\n",
      "146/146 [==============================] - 27s 182ms/step - loss: 0.1108 - accuracy: 0.9582 - val_loss: 0.3606 - val_accuracy: 0.8633\n"
     ]
    },
    {
     "data": {
      "text/plain": [
       "<keras.callbacks.History at 0x7fc9145b83d0>"
      ]
     },
     "execution_count": 44,
     "metadata": {},
     "output_type": "execute_result"
    }
   ],
   "source": [
    "cnn.compile(optimizer = 'adam', loss = 'binary_crossentropy', metrics = ['accuracy'])\n",
    "\n",
    "# Training the CNN on the Training set and evaluating it on the Test set\n",
    "cnn.fit(x = training_set, validation_data = test_set, epochs = 25)\n"
   ]
  },
  {
   "cell_type": "code",
   "execution_count": 52,
   "id": "4322536d-b505-4feb-b786-aa681364a374",
   "metadata": {},
   "outputs": [
    {
     "name": "stdout",
     "output_type": "stream",
     "text": [
      "72 78\n",
      "accuracy = 0.52\n"
     ]
    }
   ],
   "source": [
    "import numpy as np\n",
    "from keras.preprocessing import image\n",
    "chickens=0\n",
    "non_chicken = 0\n",
    "def predict_single_image(path):\n",
    "    test_image = image.load_img(path, target_size = (64, 64))\n",
    "    test_image = image.img_to_array(test_image)\n",
    "    test_image = np.expand_dims(test_image, axis = 0)\n",
    "    result = cnn.predict(test_image)\n",
    "    training_set.class_indices\n",
    "    if result[0][0] == 0:\n",
    "        prediction = 'chicken'\n",
    "    else:\n",
    "        prediction = 'not chicken'\n",
    "    print(prediction)\n",
    "def predict_classes(chickens,non_chicken):\n",
    "    import os\n",
    "    for dirname, _, filenames in os.walk('/root/shared/chickens/chickens/test/squirrel'):\n",
    "        for filename in filenames:\n",
    "            f1 = os.path.join(dirname, filename)\n",
    "            test_image = image.load_img(f1, target_size = (64, 64))\n",
    "            test_image = image.img_to_array(test_image)\n",
    "            test_image = np.expand_dims(test_image, axis = 0)\n",
    "            result = cnn.predict(test_image)\n",
    "            training_set.class_indices\n",
    "            if result[0][0] == 0:\n",
    "                prediction = 'chicken'\n",
    "                chickens+=1\n",
    "            else:\n",
    "                non_chicken+=1\n",
    "                prediction = 'not chicken'\n",
    "    print(chickens,non_chicken)\n",
    "    print(\"accuracy = {}\".format(non_chicken/(chickens+non_chicken)))\n",
    "predict_classes(chickens,non_chicken)\n"
   ]
  },
  {
   "cell_type": "code",
   "execution_count": 55,
   "id": "770d3594-d964-4d22-aa77-4c24b25934e3",
   "metadata": {},
   "outputs": [
    {
     "name": "stdout",
     "output_type": "stream",
     "text": [
      "not chicken\n"
     ]
    }
   ],
   "source": [
    "predict_single_image(\"/root/shared/chickens/chickens/chicken_6.jpeg\")"
   ]
  },
  {
   "cell_type": "code",
   "execution_count": null,
   "id": "13d69107-c6f0-43e0-8898-52d08cfacf4d",
   "metadata": {},
   "outputs": [],
   "source": []
  }
 ],
 "metadata": {
  "kernelspec": {
   "display_name": "Python 3",
   "language": "python",
   "name": "python3"
  },
  "language_info": {
   "codemirror_mode": {
    "name": "ipython",
    "version": 3
   },
   "file_extension": ".py",
   "mimetype": "text/x-python",
   "name": "python",
   "nbconvert_exporter": "python",
   "pygments_lexer": "ipython3",
   "version": "3.9.7"
  }
 },
 "nbformat": 4,
 "nbformat_minor": 5
}
