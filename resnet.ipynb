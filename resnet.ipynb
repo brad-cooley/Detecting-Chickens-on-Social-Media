{
 "cells": [
  {
   "cell_type": "code",
   "execution_count": 1,
   "id": "e30ab4ca",
   "metadata": {},
   "outputs": [],
   "source": [
    "import splitfolders"
   ]
  },
  {
   "cell_type": "code",
   "execution_count": 2,
   "id": "4825b756",
   "metadata": {},
   "outputs": [],
   "source": [
    "input_folder = 'raw-img'\n",
    "output = 'splits'\n",
    "\n",
    "splitfolders.ratio(input_folder, output, seed=42, ratio=(.6, .2, .2))"
   ]
  },
  {
   "cell_type": "code",
   "execution_count": 3,
   "id": "67cfaf24",
   "metadata": {},
   "outputs": [
    {
     "name": "stdout",
     "output_type": "stream",
     "text": [
      "Collecting scipy\n",
      "  Using cached scipy-1.8.0-cp39-cp39-macosx_12_0_arm64.whl (28.7 MB)\n",
      "Collecting numpy<1.25.0,>=1.17.3\n",
      "  Using cached numpy-1.22.3-cp39-cp39-macosx_11_0_arm64.whl (12.8 MB)\n",
      "Installing collected packages: numpy, scipy\n",
      "  Attempting uninstall: numpy\n",
      "    Found existing installation: numpy 1.22.3\n",
      "    Uninstalling numpy-1.22.3:\n",
      "      Successfully uninstalled numpy-1.22.3\n",
      "  Attempting uninstall: scipy\n",
      "    Found existing installation: scipy 1.8.0\n",
      "    Uninstalling scipy-1.8.0:\n",
      "      Successfully uninstalled scipy-1.8.0\n",
      "Successfully installed numpy-1.22.3 scipy-1.8.0\n"
     ]
    }
   ],
   "source": [
    "!pip install --upgrade --force-reinstall scipy"
   ]
  },
  {
   "cell_type": "code",
   "execution_count": 4,
   "id": "df492fc9",
   "metadata": {},
   "outputs": [],
   "source": [
    "from tensorflow.keras.layers import Conv2D, Flatten, Dense, MaxPool2D, BatchNormalization, GlobalAveragePooling2D\n",
    "from tensorflow.keras.applications.resnet50 import preprocess_input, decode_predictions\n",
    "from tensorflow.keras.preprocessing.image import ImageDataGenerator, load_img\n",
    "from tensorflow.keras.applications.resnet50 import ResNet50\n",
    "from tensorflow.keras.preprocessing import image\n",
    "from tensorflow.keras.models import Sequential\n",
    "from tensorflow.keras.models import Model\n",
    "import matplotlib.pyplot as plt\n",
    "import numpy as np\n",
    "import pandas as pd\n",
    "import seaborn as sn\n",
    "import tensorflow as tf"
   ]
  },
  {
   "cell_type": "code",
   "execution_count": 10,
   "id": "53089dca",
   "metadata": {},
   "outputs": [],
   "source": [
    "img_height, img_width = (256, 256)\n",
    "batch_size = 32\n",
    "\n",
    "train_data = 'splits/train'\n",
    "test_data = 'splits/test'\n",
    "val_data = 'splits/val'"
   ]
  },
  {
   "cell_type": "code",
   "execution_count": 11,
   "id": "da1c7737",
   "metadata": {},
   "outputs": [
    {
     "name": "stdout",
     "output_type": "stream",
     "text": [
      "Found 4313 images belonging to 4 classes.\n",
      "Found 1021 images belonging to 4 classes.\n"
     ]
    }
   ],
   "source": [
    "train_data_gen = ImageDataGenerator(preprocessing_function=preprocess_input,\n",
    "                                   shear_range=0.2,\n",
    "                                   zoom_range=0.2,\n",
    "                                   horizontal_flip=True,\n",
    "                                   validation_split=0.4)\n",
    "\n",
    "train_generator = train_data_gen.flow_from_directory(train_data, \n",
    "                                                     target_size=(img_height, img_width),\n",
    "                                                     batch_size=batch_size,\n",
    "                                                     class_mode='categorical',\n",
    "                                                     subset='training')\n",
    "\n",
    "valid_generator = train_data_gen.flow_from_directory(val_data, \n",
    "                                                     target_size=(img_height, img_width),\n",
    "                                                     batch_size=batch_size,\n",
    "                                                     class_mode='categorical',\n",
    "                                                     subset='validation')"
   ]
  },
  {
   "cell_type": "code",
   "execution_count": 12,
   "id": "2c39778d",
   "metadata": {},
   "outputs": [
    {
     "name": "stdout",
     "output_type": "stream",
     "text": [
      "Found 1008 images belonging to 4 classes.\n"
     ]
    }
   ],
   "source": [
    "test_generator = train_data_gen.flow_from_directory(test_data, \n",
    "                                                    target_size=(img_height, img_width),\n",
    "                                                    batch_size=1,\n",
    "                                                    class_mode='categorical',\n",
    "                                                    subset='validation')"
   ]
  },
  {
   "cell_type": "code",
   "execution_count": 13,
   "id": "cbac2fda",
   "metadata": {},
   "outputs": [
    {
     "data": {
      "text/plain": [
       "(1, 256, 256, 3)"
      ]
     },
     "execution_count": 13,
     "metadata": {},
     "output_type": "execute_result"
    }
   ],
   "source": [
    "x, y = test_generator.next()\n",
    "x.shape"
   ]
  },
  {
   "cell_type": "code",
   "execution_count": 14,
   "id": "db0e97b5",
   "metadata": {},
   "outputs": [
    {
     "name": "stdout",
     "output_type": "stream",
     "text": [
      "Epoch 1/10\n",
      "135/135 [==============================] - 159s 1s/step - loss: 0.2334 - accuracy: 0.9423\n",
      "Epoch 2/10\n",
      "135/135 [==============================] - 161s 1s/step - loss: 0.0415 - accuracy: 0.9856\n",
      "Epoch 3/10\n",
      "135/135 [==============================] - 163s 1s/step - loss: 0.0311 - accuracy: 0.9893\n",
      "Epoch 4/10\n",
      "135/135 [==============================] - 167s 1s/step - loss: 0.0333 - accuracy: 0.9893\n",
      "Epoch 5/10\n",
      "135/135 [==============================] - 167s 1s/step - loss: 0.0252 - accuracy: 0.9896\n",
      "Epoch 6/10\n",
      "135/135 [==============================] - 166s 1s/step - loss: 0.0331 - accuracy: 0.9882\n",
      "Epoch 7/10\n",
      "135/135 [==============================] - 168s 1s/step - loss: 0.0118 - accuracy: 0.9963\n",
      "Epoch 8/10\n",
      "135/135 [==============================] - 169s 1s/step - loss: 0.0097 - accuracy: 0.9961\n",
      "Epoch 9/10\n",
      "135/135 [==============================] - 170s 1s/step - loss: 0.0098 - accuracy: 0.9970\n",
      "Epoch 10/10\n",
      "135/135 [==============================] - 166s 1s/step - loss: 0.0260 - accuracy: 0.9907\n"
     ]
    },
    {
     "data": {
      "text/plain": [
       "<keras.callbacks.History at 0x39a4c4ca0>"
      ]
     },
     "execution_count": 14,
     "metadata": {},
     "output_type": "execute_result"
    }
   ],
   "source": [
    "base_model = ResNet50(include_top=False, weights='imagenet')\n",
    "x = base_model.output\n",
    "x = GlobalAveragePooling2D()(x)\n",
    "x = Dense(1024, activation='relu')(x)\n",
    "predictions = Dense(train_generator.num_classes, activation='softmax')(x)\n",
    "model = Model(inputs=base_model.input, outputs=predictions)\n",
    "\n",
    "for layer in base_model.layers:\n",
    "    layer.trainable = False\n",
    "\n",
    "model.compile(optimizer='adam', loss='categorical_crossentropy', metrics = ['accuracy'])\n",
    "\n",
    "model.fit(train_generator, epochs = 10)"
   ]
  },
  {
   "cell_type": "code",
   "execution_count": 15,
   "id": "26553613",
   "metadata": {},
   "outputs": [
    {
     "name": "stderr",
     "output_type": "stream",
     "text": [
      "/Users/Brad/miniforge3/envs/tf/lib/python3.9/site-packages/keras/engine/functional.py:1410: CustomMaskWarning: Custom mask layers require a config and must override get_config. When loading, the custom mask layer must be passed to the custom_objects argument.\n",
      "  layer_config = serialize_layer_fn(layer)\n"
     ]
    }
   ],
   "source": [
    "model.save('ResNet50_animals.h5')"
   ]
  },
  {
   "cell_type": "code",
   "execution_count": 16,
   "id": "c600a491",
   "metadata": {},
   "outputs": [
    {
     "name": "stdout",
     "output_type": "stream",
     "text": [
      "1008/1008 - 80s - loss: 0.0484 - accuracy: 0.9851 - 80s/epoch - 79ms/step\n",
      "\n",
      "Test accuracy: 0.9851190447807312\n"
     ]
    }
   ],
   "source": [
    "test_loss, test_acc = model.evaluate(test_generator, verbose=2)\n",
    "print('\\nTest accuracy:', test_acc)"
   ]
  },
  {
   "cell_type": "code",
   "execution_count": 17,
   "id": "a43dbbd9",
   "metadata": {
    "scrolled": true
   },
   "outputs": [
    {
     "data": {
      "image/png": "[encoded data removed]",
      "text/plain": [
       "<Figure size 432x288 with 2 Axes>"
      ]
     },
     "metadata": {
      "needs_background": "light"
     },
     "output_type": "display_data"
    },
    {
     "name": "stdout",
     "output_type": "stream",
     "text": [
      "test acc: 98.71031746031747\n"
     ]
    }
   ],
   "source": [
    "model = tf.keras.models.load_model('ResNet50_animals.h5')\n",
    "filenames = test_generator.filenames\n",
    "nb_samples = len(test_generator)\n",
    "y_prob = []\n",
    "y_act = []\n",
    "test_generator.reset()\n",
    "\n",
    "for _ in range(nb_samples):\n",
    "    X_test, Y_test = test_generator.next()\n",
    "    y_prob.append(model.predict(X_test))\n",
    "    y_act.append(Y_test)\n",
    "    \n",
    "predicted_class = [list(train_generator.class_indices.keys())[i.argmax()] for i in y_prob]\n",
    "actual_class = [list(train_generator.class_indices.keys())[i.argmax()] for i in y_act]\n",
    "\n",
    "out_df = pd.DataFrame(np.vstack([predicted_class, actual_class]).T, columns=['predicted_class', 'actual_class'])\n",
    "conf_mat = pd.crosstab(out_df['actual_class'], out_df['predicted_class'], rownames=['Actual'], colnames=['Predicted'])\n",
    "\n",
    "sn.heatmap(conf_mat, cmap='Blues', annot=True, fmt='d')\n",
    "plt.show()\n",
    "print('test acc: {}'.format((np.diagonal(conf_mat).sum()/conf_mat.sum().sum()*100)))"
   ]
  },
  {
   "cell_type": "code",
   "execution_count": null,
   "id": "a9100c16",
   "metadata": {},
   "outputs": [],
   "source": []
  }
 ],
 "metadata": {
  "kernelspec": {
   "display_name": "Python 3 (ipykernel)",
   "language": "python",
   "name": "python3"
  },
  "language_info": {
   "codemirror_mode": {
    "name": "ipython",
    "version": 3
   },
   "file_extension": ".py",
   "mimetype": "text/x-python",
   "name": "python",
   "nbconvert_exporter": "python",
   "pygments_lexer": "ipython3",
   "version": "3.9.10"
  }
 },
 "nbformat": 4,
 "nbformat_minor": 5
}
